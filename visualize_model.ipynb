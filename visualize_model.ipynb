{
 "cells": [
  {
   "cell_type": "code",
   "execution_count": null,
   "metadata": {},
   "outputs": [],
   "source": [
    "# required imports\n",
    "from lib.data_loader import *\n",
    "import train_cmp_nn_vqa\n",
    "import train_baseline_lstm\n",
    "import train_baseline_lstm_img\n",
    "import torch"
   ]
  },
  {
   "cell_type": "code",
   "execution_count": null,
   "metadata": {},
   "outputs": [],
   "source": [
    "### what to visualize ? ###\n",
    "model_name   = 'cmp_nn_vqa'\n",
    "train_set    = 'train2014-sub'\n",
    "test_set     = 'test2014-sub'\n",
    "num_questions = 10"
   ]
  },
  {
   "cell_type": "code",
   "execution_count": null,
   "metadata": {},
   "outputs": [],
   "source": [
    "### set directories and paths ###\n",
    "root_dir = os.getcwd()\n",
    "save_models_dir = os.path.join(root_dir, 'saved_models')\n",
    "save_model_file = os.path.join(save_models_dir, model_name + '.pt')\n",
    "results_dir = os.path.join(root_dir, 'results')\n",
    "print save_model_file"
   ]
  },
  {
   "cell_type": "code",
   "execution_count": null,
   "metadata": {},
   "outputs": [],
   "source": [
    "## Load Lazy Asynchronous Dataloader\n",
    "saved_mean_stds_file = os.path.join(root_dir, \n",
    "                    'preprocessed_data/image_features/mean-stds-{}.pickle'.format(train_set) )\n",
    "train_dataset, train_mean_stds   = get_dataset(train_set, None, saved_mean_stds_file )\n",
    "test_dataset, _                  = get_dataset(test_set, train_mean_stds)\n",
    "\n",
    "test_dataloader   = DataLoader(test_dataset,  batch_size=1, shuffle=True, num_workers=4)"
   ]
  },
  {
   "cell_type": "code",
   "execution_count": null,
   "metadata": {},
   "outputs": [],
   "source": [
    "## Load Model that was trained on server\n",
    "gpu_available = torch.cuda.is_available()\n",
    "print \"GPU Availibility: {}\".format(gpu_available) # GPU is necessary (for now!)\n",
    "vqa_model = torch.load(save_model_file)"
   ]
  },
  {
   "cell_type": "code",
   "execution_count": null,
   "metadata": {},
   "outputs": [],
   "source": [
    "## show visualization of some num_questions ###\n",
    "if model_name == 'cmp_nn_vqa':\n",
    "    train_cmp_nn_vqa.visualize_model(vqa_model, test_dataloader, test_dataset, num_questions, True)\n",
    "\n",
    "elif model_name == 'baseline_lstm_img':\t\n",
    "    baseline_lstm_img.visualize_model(vqa_model, test_dataloader, test_dataset, num_questions, True)\n",
    "\n",
    "elif model_name == 'baseline_lstm':\n",
    "    baseline_lstm.visualize_model(vqa_model, test_dataloader, test_dataset, num_questions, True)"
   ]
  }
 ],
 "metadata": {
  "kernelspec": {
   "display_name": "Python 2",
   "language": "python",
   "name": "python2"
  }
 },
 "nbformat": 4,
 "nbformat_minor": 2
}
